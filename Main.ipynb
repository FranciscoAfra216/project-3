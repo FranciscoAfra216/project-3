{
 "cells": [
  {
   "cell_type": "code",
   "execution_count": 1,
   "metadata": {},
   "outputs": [],
   "source": [
    "from bs4 import BeautifulSoup\n",
    "import requests\n",
    "import time\n",
    "from selenium import webdriver"
   ]
  },
  {
   "cell_type": "code",
   "execution_count": 2,
   "metadata": {},
   "outputs": [
    {
     "data": {
      "text/plain": [
       "<Response [403]>"
      ]
     },
     "execution_count": 2,
     "metadata": {},
     "output_type": "execute_result"
    }
   ],
   "source": [
    "url = \"https://www.idealista.pt/en/comprar-casas/lisboa/\"\n",
    "\n",
    "\n",
    "headers = {'User-Agent': 'Mozilla/5.0'}\n",
    "response = requests.get(url, headers=headers)\n",
    "response"
   ]
  },
  {
   "cell_type": "code",
   "execution_count": 3,
   "metadata": {
    "scrolled": true
   },
   "outputs": [
    {
     "name": "stdout",
     "output_type": "stream",
     "text": [
      "<html><head><title>idealista.pt</title><style>#cmsg{animation: A 1.5s;}@keyframes A{0%{opacity:0;}99%{opacity:0;}100%{opacity:1;}}</style></head><body style=\"margin:0\"><p id=\"cmsg\">Please enable JS and disable any ad blocker</p><script>var dd={'cid':'AHrlqAAAAAMAsMAvwsL77cgA1R4CuQ==','hsh':'AC81AADC3279CA4C7B968B717FBB30','t':'fe','s':17156,'host':'geo.captcha-delivery.com'}</script><script src=\"https://ct.captcha-delivery.com/c.js\"></script></body></html>\n",
      "\n"
     ]
    }
   ],
   "source": [
    "url = 'https://www.idealista.pt/en/comprar-casas/lisboa/'\n",
    "headers = {'User-Agent': 'Mozilla/5.0 (Macintosh; Intel Mac OS X 10_11_5) AppleWebKit/537.36 (KHTML, like Gecko) Chrome/50.0.2661.102 Safari/537.36'}\n",
    "result = requests.get(url, headers=headers)\n",
    "print(result.content.decode())"
   ]
  },
  {
   "cell_type": "code",
   "execution_count": 4,
   "metadata": {},
   "outputs": [
    {
     "name": "stdout",
     "output_type": "stream",
     "text": [
      "<bound method Tag.prettify of <html><head><title>idealista.pt</title><style>#cmsg{animation: A 1.5s;}@keyframes A{0%{opacity:0;}99%{opacity:0;}100%{opacity:1;}}</style></head><body style=\"margin:0\"><p id=\"cmsg\">Please enable JS and disable any ad blocker</p><script>var dd={'cid':'AHrlqAAAAAMASOOizS2gVeAA1R4CuQ==','hsh':'AC81AADC3279CA4C7B968B717FBB30','t':'fe','s':17156,'host':'geo.captcha-delivery.com'}</script><script src=\"https://ct.captcha-delivery.com/c.js\"></script></body></html>\n",
      ">\n"
     ]
    }
   ],
   "source": [
    "soup = BeautifulSoup(response.content)\n",
    "print(soup.prettify)"
   ]
  },
  {
   "cell_type": "code",
   "execution_count": 5,
   "metadata": {},
   "outputs": [
    {
     "name": "stdout",
     "output_type": "stream",
     "text": [
      "<bound method Tag.prettify of <html><head><title>idealista.pt</title><style>#cmsg{animation: A 1.5s;}@keyframes A{0%{opacity:0;}99%{opacity:0;}100%{opacity:1;}}</style><meta content=\"width=device-width, initial-scale=1.0\" name=\"viewport\"/></head><body style=\"margin:0\"><script>var dd={'cid':'AHrlqAAAAAMAB-OpUfiFHCoA1R4CuQ==','hsh':'AC81AADC3279CA4C7B968B717FBB30','t':'fe','s':17156,'host':'geo.captcha-delivery.com'}</script><script src=\"https://ct.captcha-delivery.com/c.js\"></script><iframe border=\"0\" frameborder=\"0\" height=\"100%\" scrolling=\"yes\" src=\"https://geo.captcha-delivery.com/captcha/?initialCid=AHrlqAAAAAMAB-OpUfiFHCoA1R4CuQ%3D%3D&amp;hash=AC81AADC3279CA4C7B968B717FBB30&amp;cid=AoB~K39~chnQquAMvO060gJviustMqZywb2xK3xny8BL4iHp4QnE05k_ZZk6oxQpE-IRw4gSSmQ6bUzv76Ce2m8-c4~BewVlh9gEfVVX_L&amp;t=fe&amp;referer=https%3A%2F%2Fwww.idealista.pt%2Fen%2Fcomprar-casas%2Flisboa%2F&amp;s=17156\" style=\"height:100vh;\" width=\"100%\"></iframe>\n",
      "</body></html>>\n"
     ]
    }
   ],
   "source": [
    "# this will try to simulate an user agent with java script capabilities\n",
    "# for this to work you need firefox installed and open\n",
    "# you also need to change the executable path to match the path of your selenium intallation, and you need to download and place the geckodriver.exe in the folder\n",
    "# checkout this answer: https://stackoverflow.com/questions/40208051/selenium-using-python-geckodriver-executable-needs-to-be-in-path \n",
    "\n",
    "driver = webdriver.Firefox(executable_path=r'C:\\ProgramData\\Anaconda3\\Lib\\site-packages\\selenium\\webdriver\\geckodriver.exe')\n",
    "driver.get(url)\n",
    "html = driver.page_source\n",
    "soup = BeautifulSoup(html)\n",
    "print(soup.prettify)"
   ]
  },
  {
   "cell_type": "code",
   "execution_count": 10,
   "metadata": {},
   "outputs": [
    {
     "name": "stdout",
     "output_type": "stream",
     "text": [
      "[]\n",
      "[]\n"
     ]
    },
    {
     "data": {
      "text/plain": [
       "[]"
      ]
     },
     "execution_count": 10,
     "metadata": {},
     "output_type": "execute_result"
    }
   ],
   "source": [
    "# I'll try to get the urls out of this page\n",
    "#links = soup.find_all(attrs = {'class' : 'item-link'})\n",
    "item_info = soup.find_all(attrs = {'class' : 'item-info-container'})\n",
    "\n",
    "# house price\n",
    "item_price = [int(str(item.find_all(attrs = {'class' : 'item-price h2-simulated'})).split(\">\")[1].split(\"<\")[0].replace(\",\",\"\")) for item in item_info]\n",
    "\n",
    "# house tier\n",
    "item_tier = [str(item.find_all(attrs = {'class' : 'item-detail'})).split(\">\")[1].split(\"<\")[0].replace(\",\",\"\").rstrip() for item in item_info]\n",
    "\n",
    "# area in square meters\n",
    "[item.find_all(attrs = {'class' : 'item-detail'}) for item in item_info]\n",
    "\n",
    "\n",
    "#item_info.find_all(attrs = {'class' : 'item-detail'})\n",
    "\n",
    "#item_area = item_info.find_all(attrs = {'class' : 'item_detail'})\n",
    "#item_area\n",
    "#item_tier = str(soup.find_all(attrs = {'class' : 'item-detail'})\n",
    "#item_tier[0]\n",
    "#item_tier"
   ]
  },
  {
   "cell_type": "code",
   "execution_count": null,
   "metadata": {},
   "outputs": [],
   "source": []
  }
 ],
 "metadata": {
  "kernelspec": {
   "display_name": "Python 3",
   "language": "python",
   "name": "python3"
  },
  "language_info": {
   "codemirror_mode": {
    "name": "ipython",
    "version": 3
   },
   "file_extension": ".py",
   "mimetype": "text/x-python",
   "name": "python",
   "nbconvert_exporter": "python",
   "pygments_lexer": "ipython3",
   "version": "3.8.3"
  }
 },
 "nbformat": 4,
 "nbformat_minor": 4
}
